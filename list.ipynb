{
 "cells": [
  {
   "cell_type": "code",
   "execution_count": 3,
   "metadata": {},
   "outputs": [
    {
     "name": "stdout",
     "output_type": "stream",
     "text": [
      "Input:list1= [12, -7, 5, 64, -14]\n",
      "Output:Output= [12, 5, 64]\n",
      "Input:list2= [12, 14, -95, 3]\n",
      "Output:Output= [12, 14, 3]\n"
     ]
    }
   ],
   "source": [
    "list1=[12,-7,5,64,-14]\n",
    "output1=[]\n",
    "list2=[12,14,-95,3]\n",
    "output2=[]\n",
    "for i in list1:\n",
    "    if i>0:\n",
    "        output1.append(i)\n",
    "for j in list2:\n",
    "    if j>0:\n",
    "        output2.append(j)\n",
    "print(\"Input:list1=\",list1)\n",
    "print(\"Output:Output=\",output1)\n",
    "print(\"Input:list2=\",list2)\n",
    "print(\"Output:Output=\",output2)"
   ]
  }
 ],
 "metadata": {
  "kernelspec": {
   "display_name": "Python 3",
   "language": "python",
   "name": "python3"
  },
  "language_info": {
   "codemirror_mode": {
    "name": "ipython",
    "version": 3
   },
   "file_extension": ".py",
   "mimetype": "text/x-python",
   "name": "python",
   "nbconvert_exporter": "python",
   "pygments_lexer": "ipython3",
   "version": "3.8.5"
  }
 },
 "nbformat": 4,
 "nbformat_minor": 4
}
